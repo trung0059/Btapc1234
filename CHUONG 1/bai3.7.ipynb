{
 "cells": [
  {
   "cell_type": "code",
   "execution_count": 1,
   "metadata": {},
   "outputs": [],
   "source": [
    "import numpy as np"
   ]
  },
  {
   "cell_type": "code",
   "execution_count": 2,
   "metadata": {},
   "outputs": [
    {
     "ename": "FileNotFoundError",
     "evalue": "[Errno 2] No such file or directory: 'baseball_2D.txt'",
     "output_type": "error",
     "traceback": [
      "\u001b[1;31m---------------------------------------------------------------------------\u001b[0m",
      "\u001b[1;31mFileNotFoundError\u001b[0m                         Traceback (most recent call last)",
      "\u001b[1;32mf:\\lập trình python nâng cao\\VIDU\\CHUONG 1\\bai3.7.ipynb Cell 2\u001b[0m line \u001b[0;36m1\n\u001b[1;32m----> <a href='vscode-notebook-cell:/f%3A/l%E1%BA%ADp%20tr%C3%ACnh%20python%20n%C3%A2ng%20cao/VIDU/CHUONG%201/bai3.7.ipynb#W1sZmlsZQ%3D%3D?line=0'>1</a>\u001b[0m \u001b[39mwith\u001b[39;00m \u001b[39mopen\u001b[39;49m(\u001b[39m'\u001b[39;49m\u001b[39mbaseball_2D.txt\u001b[39;49m\u001b[39m'\u001b[39;49m, \u001b[39m'\u001b[39;49m\u001b[39mr\u001b[39;49m\u001b[39m'\u001b[39;49m) \u001b[39mas\u001b[39;00m baseball_file:\n\u001b[0;32m      <a href='vscode-notebook-cell:/f%3A/l%E1%BA%ADp%20tr%C3%ACnh%20python%20n%C3%A2ng%20cao/VIDU/CHUONG%201/bai3.7.ipynb#W1sZmlsZQ%3D%3D?line=1'>2</a>\u001b[0m     baseball \u001b[39m=\u001b[39m [[\u001b[39mfloat\u001b[39m(line\u001b[39m.\u001b[39mstrip()\u001b[39m.\u001b[39msplit(\u001b[39m\"\u001b[39m\u001b[39m\\t\u001b[39;00m\u001b[39m\"\u001b[39m)[\u001b[39m3\u001b[39m]), \u001b[39mfloat\u001b[39m(line\u001b[39m.\u001b[39mstrip()\u001b[39m.\u001b[39msplit(\u001b[39m\"\u001b[39m\u001b[39m\\t\u001b[39;00m\u001b[39m\"\u001b[39m)[\u001b[39m4\u001b[39m])] \u001b[39mfor\u001b[39;00m line \u001b[39min\u001b[39;00m baseball_file\u001b[39m.\u001b[39mreadlines()]\n\u001b[0;32m      <a href='vscode-notebook-cell:/f%3A/l%E1%BA%ADp%20tr%C3%ACnh%20python%20n%C3%A2ng%20cao/VIDU/CHUONG%201/bai3.7.ipynb#W1sZmlsZQ%3D%3D?line=3'>4</a>\u001b[0m baseball_file\u001b[39m.\u001b[39mclose()\n",
      "File \u001b[1;32m~\\AppData\\Roaming\\Python\\Python38\\site-packages\\IPython\\core\\interactiveshell.py:284\u001b[0m, in \u001b[0;36m_modified_open\u001b[1;34m(file, *args, **kwargs)\u001b[0m\n\u001b[0;32m    277\u001b[0m \u001b[39mif\u001b[39;00m file \u001b[39min\u001b[39;00m {\u001b[39m0\u001b[39m, \u001b[39m1\u001b[39m, \u001b[39m2\u001b[39m}:\n\u001b[0;32m    278\u001b[0m     \u001b[39mraise\u001b[39;00m \u001b[39mValueError\u001b[39;00m(\n\u001b[0;32m    279\u001b[0m         \u001b[39mf\u001b[39m\u001b[39m\"\u001b[39m\u001b[39mIPython won\u001b[39m\u001b[39m'\u001b[39m\u001b[39mt let you open fd=\u001b[39m\u001b[39m{\u001b[39;00mfile\u001b[39m}\u001b[39;00m\u001b[39m by default \u001b[39m\u001b[39m\"\u001b[39m\n\u001b[0;32m    280\u001b[0m         \u001b[39m\"\u001b[39m\u001b[39mas it is likely to crash IPython. If you know what you are doing, \u001b[39m\u001b[39m\"\u001b[39m\n\u001b[0;32m    281\u001b[0m         \u001b[39m\"\u001b[39m\u001b[39myou can use builtins\u001b[39m\u001b[39m'\u001b[39m\u001b[39m open.\u001b[39m\u001b[39m\"\u001b[39m\n\u001b[0;32m    282\u001b[0m     )\n\u001b[1;32m--> 284\u001b[0m \u001b[39mreturn\u001b[39;00m io_open(file, \u001b[39m*\u001b[39;49margs, \u001b[39m*\u001b[39;49m\u001b[39m*\u001b[39;49mkwargs)\n",
      "\u001b[1;31mFileNotFoundError\u001b[0m: [Errno 2] No such file or directory: 'baseball_2D.txt'"
     ]
    }
   ],
   "source": [
    "with open('baseball_2D.txt', 'r') as baseball_file:\n",
    "    baseball = [[float(line.strip().split(\"\\t\")[3]), float(line.strip().split(\"\\t\")[4])] for line in baseball_file.readlines()]\n",
    "\n",
    "baseball_file.close()\n",
    "print(baseball)"
   ]
  },
  {
   "cell_type": "code",
   "execution_count": 3,
   "metadata": {},
   "outputs": [
    {
     "name": "stdout",
     "output_type": "stream",
     "text": [
      "[[ 74. 180.]\n",
      " [ 74. 215.]\n",
      " [ 72. 210.]\n",
      " ...\n",
      " [ 75. 205.]\n",
      " [ 75. 190.]\n",
      " [ 73. 195.]]\n"
     ]
    }
   ],
   "source": [
    "# 1. Tạo 2D numpy array tên np_baseball từ baseball. Xem kiểu dữ liệu và kích thước của np_baseball.\n",
    "np_baseball = np.array(baseball)\n",
    "print(np_baseball)"
   ]
  },
  {
   "cell_type": "code",
   "execution_count": 4,
   "metadata": {},
   "outputs": [
    {
     "name": "stdout",
     "output_type": "stream",
     "text": [
      "[ 70. 195.]\n"
     ]
    }
   ],
   "source": [
    "# 2. In các giá trị của dòng thứ 50 trong np_baseball.\n",
    "print(np_baseball[50,:])"
   ]
  },
  {
   "cell_type": "code",
   "execution_count": 5,
   "metadata": {},
   "outputs": [
    {
     "name": "stdout",
     "output_type": "stream",
     "text": [
      "[180. 215. 210. ... 205. 190. 195.]\n",
      "195.0\n"
     ]
    }
   ],
   "source": [
    "#3. Tạo numpy array np_weight với dữ liệu được lấy từ cột hai của np_baseball.\n",
    "np_weight = np.array(np_baseball[:,1])\n",
    "print(np_weight)\n",
    "print(np_weight[50])"
   ]
  },
  {
   "cell_type": "code",
   "execution_count": 6,
   "metadata": {},
   "outputs": [
    {
     "name": "stdout",
     "output_type": "stream",
     "text": [
      "80.0\n"
     ]
    }
   ],
   "source": [
    "# 4. Cho biết chiều cao của vận động viên thứ 124.\n",
    "print(np_baseball[124,0])"
   ]
  },
  {
   "cell_type": "code",
   "execution_count": 7,
   "metadata": {},
   "outputs": [
    {
     "name": "stdout",
     "output_type": "stream",
     "text": [
      "Chiều cao trung bình:  73.69893514036787\n",
      "Cân nặng trung bình:  201.6892545982575\n"
     ]
    }
   ],
   "source": [
    "# 5. Cho biết chiều cao trung bình, cân nặng trung bình của các cầu thủ.\n",
    "average_height = np.mean(np_baseball[:,0])\n",
    "average_weight = np.mean(np_baseball[:,1])\n",
    "print(\"Chiều cao trung bình: \", average_height)\n",
    "print(\"Cân nặng trung bình: \", average_weight)"
   ]
  },
  {
   "cell_type": "code",
   "execution_count": 8,
   "metadata": {},
   "outputs": [
    {
     "name": "stdout",
     "output_type": "stream",
     "text": [
      "tương quan thuận\n"
     ]
    }
   ],
   "source": [
    "# 6. Bạn nhận xét gì về mối tương quan giữa chiều cao và cân nặng của các cầu thủ: có/không có tương quan, tương quan thuận/nghịch.\n",
    "correlation = np.corrcoef(np_baseball[:,0],np_baseball[:,1])[0, 1]\n",
    "\n",
    "if correlation > 0:\n",
    "    correlation_type = \"tương quan thuận\"\n",
    "elif correlation < 0:\n",
    "    correlation_type = \"tương quan nghịch\"\n",
    "else:\n",
    "    correlation_type = \"không có tương quan\"\n",
    "print(correlation_type)"
   ]
  }
 ],
 "metadata": {
  "kernelspec": {
   "display_name": "base",
   "language": "python",
   "name": "python3"
  },
  "language_info": {
   "codemirror_mode": {
    "name": "ipython",
    "version": 3
   },
   "file_extension": ".py",
   "mimetype": "text/x-python",
   "name": "python",
   "nbconvert_exporter": "python",
   "pygments_lexer": "ipython3",
   "version": "3.8.6rc1"
  }
 },
 "nbformat": 4,
 "nbformat_minor": 2
}
