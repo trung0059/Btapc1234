{
 "cells": [
  {
   "cell_type": "code",
   "execution_count": 4,
   "metadata": {},
   "outputs": [
    {
     "name": "stdout",
     "output_type": "stream",
     "text": [
      "{'name': 'Nguyen Van A', 'age': 30, 'city': 'Ha Noi'}\n"
     ]
    }
   ],
   "source": [
    "import json\n",
    "chuoi_json = '{\"name\": \"Nguyen Van A\", \"age\": 30, \"city\": \"Ha Noi\"}'\n",
    "\n",
    "# Chuyển đổi chuỗi JSON thành đối tượng Python\n",
    "doi_tuong_python = json.loads(chuoi_json)\n",
    "\n",
    "# In ra đối tượng Python\n",
    "print(doi_tuong_python)"
   ]
  }
 ],
 "metadata": {
  "kernelspec": {
   "display_name": "Python 3",
   "language": "python",
   "name": "python3"
  },
  "language_info": {
   "codemirror_mode": {
    "name": "ipython",
    "version": 3
   },
   "file_extension": ".py",
   "mimetype": "text/x-python",
   "name": "python",
   "nbconvert_exporter": "python",
   "pygments_lexer": "ipython3",
   "version": "3.8.6"
  }
 },
 "nbformat": 4,
 "nbformat_minor": 2
}
