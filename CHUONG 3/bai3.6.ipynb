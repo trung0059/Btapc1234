{
 "cells": [
  {
   "cell_type": "code",
   "execution_count": 3,
   "metadata": {},
   "outputs": [
    {
     "name": "stdout",
     "output_type": "stream",
     "text": [
      "Bước 1: arr:\n",
      " [[ True  True  True]\n",
      " [ True  True  True]\n",
      " [ True  True  True]]\n",
      "Bước 2: arr_2D:\n",
      " [[6 7 8]\n",
      " [0 1 2]\n",
      " [3 4 5]]\n",
      "Bước 6: Có giá trị rỗng trong arr_2D_null: True\n",
      "Bước 7: arr_2D_null (sau khi thay thế giá trị rỗng):\n",
      " [[1. 2. 3.]\n",
      " [0. 5. 6.]\n",
      " [7. 0. 9.]\n",
      " [4. 5. 6.]]\n"
     ]
    }
   ],
   "source": [
    "import numpy as np\n",
    "\n",
    "# Bước 1: Tạo array arr có kích thước 3x3 với các giá trị True\n",
    "arr = np.full((3, 3), True, dtype=bool)\n",
    "\n",
    "# Bước 2: Tạo array 1 chiều arr_1D\n",
    "arr_1D = np.array([0, 1, 2, 3, 4, 5, 6, 7, 8])\n",
    "\n",
    "# Chuyển arr_1D thành array 2 chiều 3x3 và hoán đổi cột 1 và cột 3\n",
    "arr_2D = arr_1D.reshape(3, 3)[:, [2, 1, 0]]\n",
    "\n",
    "# Bước 3: Hoán đổi dòng 1 và dòng 2\n",
    "arr_2D[[0, 1]] = arr_2D[[1, 0]]\n",
    "\n",
    "# Bước 4: Đảo ngược các dòng của arr_2D\n",
    "arr_2D = np.flipud(arr_2D)\n",
    "\n",
    "# Bước 5: Đảo ngược các cột của arr_2D\n",
    "arr_2D = np.fliplr(arr_2D)\n",
    "\n",
    "# Bước 6: Tạo array arr_2D_null và kiểm tra giá trị rỗng\n",
    "arr_2D_null = np.array([[1, 2, 3], [np.nan, 5, 6], [7, np.nan, 9], [4, 5, 6]])\n",
    "has_nan = np.isnan(arr_2D_null).any()\n",
    "\n",
    "# Bước 7: Thay thế giá trị rỗng (nan) bằng 0\n",
    "arr_2D_null[np.isnan(arr_2D_null)] = 0\n",
    "\n",
    "# In kết quả\n",
    "print(\"Bước 1: arr:\\n\", arr)\n",
    "print(\"Bước 2: arr_2D:\\n\", arr_2D)\n",
    "print(\"Bước 6: Có giá trị rỗng trong arr_2D_null:\", has_nan)\n",
    "print(\"Bước 7: arr_2D_null (sau khi thay thế giá trị rỗng):\\n\", arr_2D_null)\n"
   ]
  }
 ],
 "metadata": {
  "kernelspec": {
   "display_name": "Python 3",
   "language": "python",
   "name": "python3"
  },
  "language_info": {
   "codemirror_mode": {
    "name": "ipython",
    "version": 3
   },
   "file_extension": ".py",
   "mimetype": "text/x-python",
   "name": "python",
   "nbconvert_exporter": "python",
   "pygments_lexer": "ipython3",
   "version": "3.8.6"
  }
 },
 "nbformat": 4,
 "nbformat_minor": 2
}
