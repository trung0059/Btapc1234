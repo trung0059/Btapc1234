{
 "cells": [
  {
   "cell_type": "code",
   "execution_count": 1,
   "metadata": {},
   "outputs": [
    {
     "name": "stdout",
     "output_type": "stream",
     "text": [
      "arr: [0 1 2 3 4 5 6 7 8 9]\n",
      "Kiểu dữ liệu của arr: <class 'numpy.ndarray'>\n",
      "Kích thước của arr: (10,)\n",
      "arr_odd: [1 3 5 7 9]\n",
      "arr_even: [0 2 4 6 8]\n",
      "arr_update_1: [  0 100   2 100   4 100   6 100   8 100]\n"
     ]
    }
   ],
   "source": [
    "import numpy as np\n",
    "\n",
    "#1: Tạo numpy array arr có giá trị từ 0-9 và hiển thị thông tin\n",
    "arr = np.arange(10)\n",
    "print(\"arr:\", arr)\n",
    "print(\"Kiểu dữ liệu của arr:\", type(arr))\n",
    "print(\"Kích thước của arr:\", arr.shape)\n",
    "\n",
    "#2: Tạo arr_odd và arr_even từ arr ở 1\n",
    "arr_odd = arr[arr % 2 != 0]\n",
    "arr_even = arr[arr % 2 == 0]\n",
    "\n",
    "    # Hiển thị arr_odd và arr_even\n",
    "print(\"arr_odd:\", arr_odd)\n",
    "print(\"arr_even:\", arr_even)\n",
    "\n",
    "# Bước 3: Tạo arr_update_1 với các phần tử chẵn giữ nguyên, các phần tử lẻ thay bằng 100\n",
    "arr_update_1 = np.where(arr % 2 == 0, arr, 100)\n",
    "\n",
    "# Hiển thị arr_update_1\n",
    "print(\"arr_update_1:\", arr_update_1)\n"
   ]
  }
 ],
 "metadata": {
  "kernelspec": {
   "display_name": "Python 3",
   "language": "python",
   "name": "python3"
  },
  "language_info": {
   "codemirror_mode": {
    "name": "ipython",
    "version": 3
   },
   "file_extension": ".py",
   "mimetype": "text/x-python",
   "name": "python",
   "nbconvert_exporter": "python",
   "pygments_lexer": "ipython3",
   "version": "3.8.6"
  }
 },
 "nbformat": 4,
 "nbformat_minor": 2
}
