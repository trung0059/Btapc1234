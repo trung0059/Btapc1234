{
 "cells": [
  {
   "cell_type": "code",
   "execution_count": 2,
   "metadata": {},
   "outputs": [
    {
     "ename": "FileNotFoundError",
     "evalue": "[Errno 2] No such file or directory: 'heights_1.txt'",
     "output_type": "error",
     "traceback": [
      "\u001b[1;31m---------------------------------------------------------------------------\u001b[0m",
      "\u001b[1;31mFileNotFoundError\u001b[0m                         Traceback (most recent call last)",
      "\u001b[1;32mf:\\lập trình python nâng cao\\VIDU\\CHUONG 3\\bai3.5.ipynb Cell 1\u001b[0m line \u001b[0;36m4\n\u001b[0;32m      <a href='vscode-notebook-cell:/f%3A/l%E1%BA%ADp%20tr%C3%ACnh%20python%20n%C3%A2ng%20cao/VIDU/CHUONG%203/bai3.5.ipynb#W0sZmlsZQ%3D%3D?line=0'>1</a>\u001b[0m \u001b[39mimport\u001b[39;00m \u001b[39mnumpy\u001b[39;00m \u001b[39mas\u001b[39;00m \u001b[39mnp\u001b[39;00m\n\u001b[0;32m      <a href='vscode-notebook-cell:/f%3A/l%E1%BA%ADp%20tr%C3%ACnh%20python%20n%C3%A2ng%20cao/VIDU/CHUONG%203/bai3.5.ipynb#W0sZmlsZQ%3D%3D?line=2'>3</a>\u001b[0m \u001b[39m# Đọc dữ liệu từ tập tin và tạo list height và weight\u001b[39;00m\n\u001b[1;32m----> <a href='vscode-notebook-cell:/f%3A/l%E1%BA%ADp%20tr%C3%ACnh%20python%20n%C3%A2ng%20cao/VIDU/CHUONG%203/bai3.5.ipynb#W0sZmlsZQ%3D%3D?line=3'>4</a>\u001b[0m \u001b[39mwith\u001b[39;00m \u001b[39mopen\u001b[39;49m(\u001b[39m'\u001b[39;49m\u001b[39mheights_1.txt\u001b[39;49m\u001b[39m'\u001b[39;49m, \u001b[39m'\u001b[39;49m\u001b[39mr\u001b[39;49m\u001b[39m'\u001b[39;49m) \u001b[39mas\u001b[39;00m height_file, \u001b[39mopen\u001b[39m(\u001b[39m'\u001b[39m\u001b[39mweights_1.txt\u001b[39m\u001b[39m'\u001b[39m, \u001b[39m'\u001b[39m\u001b[39mr\u001b[39m\u001b[39m'\u001b[39m) \u001b[39mas\u001b[39;00m weight_file:\n\u001b[0;32m      <a href='vscode-notebook-cell:/f%3A/l%E1%BA%ADp%20tr%C3%ACnh%20python%20n%C3%A2ng%20cao/VIDU/CHUONG%203/bai3.5.ipynb#W0sZmlsZQ%3D%3D?line=4'>5</a>\u001b[0m     height \u001b[39m=\u001b[39m [\u001b[39mfloat\u001b[39m(line\u001b[39m.\u001b[39mstrip()) \u001b[39mfor\u001b[39;00m line \u001b[39min\u001b[39;00m height_file]\n\u001b[0;32m      <a href='vscode-notebook-cell:/f%3A/l%E1%BA%ADp%20tr%C3%ACnh%20python%20n%C3%A2ng%20cao/VIDU/CHUONG%203/bai3.5.ipynb#W0sZmlsZQ%3D%3D?line=5'>6</a>\u001b[0m     weight \u001b[39m=\u001b[39m [\u001b[39mfloat\u001b[39m(line\u001b[39m.\u001b[39mstrip()) \u001b[39mfor\u001b[39;00m line \u001b[39min\u001b[39;00m weight_file]\n",
      "File \u001b[1;32m~\\AppData\\Roaming\\Python\\Python38\\site-packages\\IPython\\core\\interactiveshell.py:284\u001b[0m, in \u001b[0;36m_modified_open\u001b[1;34m(file, *args, **kwargs)\u001b[0m\n\u001b[0;32m    277\u001b[0m \u001b[39mif\u001b[39;00m file \u001b[39min\u001b[39;00m {\u001b[39m0\u001b[39m, \u001b[39m1\u001b[39m, \u001b[39m2\u001b[39m}:\n\u001b[0;32m    278\u001b[0m     \u001b[39mraise\u001b[39;00m \u001b[39mValueError\u001b[39;00m(\n\u001b[0;32m    279\u001b[0m         \u001b[39mf\u001b[39m\u001b[39m\"\u001b[39m\u001b[39mIPython won\u001b[39m\u001b[39m'\u001b[39m\u001b[39mt let you open fd=\u001b[39m\u001b[39m{\u001b[39;00mfile\u001b[39m}\u001b[39;00m\u001b[39m by default \u001b[39m\u001b[39m\"\u001b[39m\n\u001b[0;32m    280\u001b[0m         \u001b[39m\"\u001b[39m\u001b[39mas it is likely to crash IPython. If you know what you are doing, \u001b[39m\u001b[39m\"\u001b[39m\n\u001b[0;32m    281\u001b[0m         \u001b[39m\"\u001b[39m\u001b[39myou can use builtins\u001b[39m\u001b[39m'\u001b[39m\u001b[39m open.\u001b[39m\u001b[39m\"\u001b[39m\n\u001b[0;32m    282\u001b[0m     )\n\u001b[1;32m--> 284\u001b[0m \u001b[39mreturn\u001b[39;00m io_open(file, \u001b[39m*\u001b[39;49margs, \u001b[39m*\u001b[39;49m\u001b[39m*\u001b[39;49mkwargs)\n",
      "\u001b[1;31mFileNotFoundError\u001b[0m: [Errno 2] No such file or directory: 'heights_1.txt'"
     ]
    }
   ],
   "source": [
    "import numpy as np\n",
    "\n",
    "# Đọc dữ liệu từ tập tin và tạo list height và weight\n",
    "with open('heights_1.txt', 'r') as height_file, open('weights_1.txt', 'r') as weight_file:\n",
    "    height = [float(line.strip()) for line in height_file]\n",
    "    weight = [float(line.strip()) for line in weight_file]\n",
    "\n",
    "# Bước 1: Tạo numpy array arr_height từ list height\n",
    "arr_height = np.array(height)\n",
    "\n",
    "# Bước 2: Tạo numpy array arr_weight từ list weight\n",
    "arr_weight = np.array(weight)\n",
    "\n",
    "# Bước 3: Tạo arr_height_m dựa trên công thức arr_height * hệ số quy đổi\n",
    "he_so_inch_to_meter = 0.0254\n",
    "arr_height_m = arr_height * he_so_inch_to_meter\n",
    "\n",
    "# Bước 4: Tạo arr_weight_kg dựa trên công thức arr_weight * hệ số quy đổi\n",
    "he_so_pound_to_kg = 0.453592\n",
    "arr_weight_kg = arr_weight * he_so_pound_to_kg\n",
    "\n",
    "# Bước 5: Tính BMI của arr_height_m và arr_weight_kg\n",
    "arr_bmi = arr_weight_kg / (arr_height_m * arr_height_m)\n",
    "\n",
    "# Bước 6: Giá trị cân nặng ở vị trí index = 50 trong arr_weight_kg\n",
    "weight_at_index_50 = arr_weight_kg[50]\n",
    "print(\"Cân nặng ở vị trí index 50:\", weight_at_index_50)\n",
    "\n",
    "# Bước 7: Tạo arr_height_m_100 từ index 100 đến 110 (bao gồm cả index 110)\n",
    "arr_height_m_100 = arr_height_m[100:111]\n",
    "\n",
    "# Bước 8: Cầu thủ có BMI < 21\n",
    "players_with_bmi_below_21 = arr_bmi[arr_bmi < 21]\n",
    "\n",
    "# Bước 9: Chiều cao và cân nặng trung bình của các cầu thủ\n",
    "average_height = np.mean(arr_height_m)\n",
    "average_weight = np.mean(arr_weight_kg)\n",
    "\n",
    "# Bước 10: Chiều cao và cân nặng lớn nhất của các cầu thủ\n",
    "max_height = np.max(arr_height_m)\n",
    "max_weight = np.max(arr_weight_kg)\n",
    "\n",
    "# Bước 11: Chiều cao và cân nặng nhỏ nhất của các cầu thủ\n",
    "min_height = np.min(arr_height_m)\n",
    "min_weight = np.min(arr_weight_kg)\n",
    "\n",
    "# In kết quả\n",
    "print(\"Chiều cao trung bình:\", average_height)\n",
    "print(\"Cân nặng trung bình:\", average_weight)\n",
    "print(\"Chiều cao lớn nhất:\", max_height)\n",
    "print(\"Cân nặng lớn nhất:\", max_weight)\n",
    "print(\"Chiều cao nhỏ nhất:\", min_height)\n",
    "print(\"Cân nặng nhỏ nhất:\", min_weight)\n"
   ]
  }
 ],
 "metadata": {
  "kernelspec": {
   "display_name": "Python 3",
   "language": "python",
   "name": "python3"
  },
  "language_info": {
   "codemirror_mode": {
    "name": "ipython",
    "version": 3
   },
   "file_extension": ".py",
   "mimetype": "text/x-python",
   "name": "python",
   "nbconvert_exporter": "python",
   "pygments_lexer": "ipython3",
   "version": "3.8.6"
  }
 },
 "nbformat": 4,
 "nbformat_minor": 2
}
