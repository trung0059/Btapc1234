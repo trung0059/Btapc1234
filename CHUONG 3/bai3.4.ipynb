{
 "cells": [
  {
   "cell_type": "code",
   "execution_count": 1,
   "metadata": {},
   "outputs": [
    {
     "name": "stdout",
     "output_type": "stream",
     "text": [
      "arr_zeros: [0. 0. 0. 0. 1. 0. 0. 0. 0. 0.]\n",
      "arr_h_daonguoc: [24 23 22 21 20 19 18 17 16 15 14 13 12 11 10]\n",
      "arr_l: [1 2 8 2 1 3 5]\n",
      "arr_l: [ 1  2  8  2  1  3  5 10 20]\n",
      "arr_l: [  1   2   8   2   1 100   3   5  10  20]\n",
      "arr_l: [  2   1 100   3   5  10  20]\n"
     ]
    }
   ],
   "source": [
    "import numpy as np\n",
    "\n",
    "#1: Tạo arr_zeros có 10 phần tử 0 và cập nhật phần tử ở vị trí thứ 5 là 1\n",
    "arr_zeros = np.zeros(10)\n",
    "arr_zeros[4] = 1\n",
    "print(\"arr_zeros:\", arr_zeros)\n",
    "\n",
    "#2: Tạo arr_h có giá trị từ 10 đến 24 và in danh sách các phần tử theo tứ tự đảo ngược\n",
    "arr_h = np.arange(10, 25)\n",
    "arr_h_daonguoc = arr_h[::-1]\n",
    "print(\"arr_h_daonguoc:\", arr_h_daonguoc)\n",
    "\n",
    "# Bước 3: Tạo arr_k và tạo arr_l từ arr_k với các phần tử khác 0\n",
    "arr_k = np.array([1, 2, 0, 8, 2, 0, 1, 3, 0, 5, 0])\n",
    "arr_l = arr_k[arr_k != 0]\n",
    "print(\"arr_l:\", arr_l)\n",
    "\n",
    "# Bước 4: Từ arr_l của câu 3, thêm 2 phần tử có giá trị là 10 và 20 vào cuối array\n",
    "arr_l = np.append(arr_l, [10, 20])\n",
    "print(\"arr_l:\", arr_l)\n",
    "\n",
    "# Bước 5: Từ array của câu 4, thêm phần tử có giá trị 100 vào vị trí có index = 5\n",
    "arr_l = np.insert(arr_l, 5, 100)\n",
    "print(\"arr_l:\", arr_l)\n",
    "\n",
    "# Bước 6: Từ array của câu 5, xóa các phần tử tại vị trí có index = 0, 1, 2\n",
    "arr_l = np.delete(arr_l, [0, 1, 2])\n",
    "print(\"arr_l:\", arr_l)\n"
   ]
  }
 ],
 "metadata": {
  "kernelspec": {
   "display_name": "Python 3",
   "language": "python",
   "name": "python3"
  },
  "language_info": {
   "codemirror_mode": {
    "name": "ipython",
    "version": 3
   },
   "file_extension": ".py",
   "mimetype": "text/x-python",
   "name": "python",
   "nbconvert_exporter": "python",
   "pygments_lexer": "ipython3",
   "version": "3.8.6"
  }
 },
 "nbformat": 4,
 "nbformat_minor": 2
}
