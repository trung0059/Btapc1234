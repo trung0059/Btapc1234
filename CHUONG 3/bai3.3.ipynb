{
 "cells": [
  {
   "cell_type": "code",
   "execution_count": 1,
   "metadata": {},
   "outputs": [
    {
     "name": "stdout",
     "output_type": "stream",
     "text": [
      "arr_c: [2 4]\n",
      "arr_d: [1 3 5 6]\n",
      "arr_f: [ 6  9 10  8  6]\n"
     ]
    }
   ],
   "source": [
    "import numpy as np\n",
    "\n",
    "#1: Tạo array arr_a và arr_b\n",
    "arr_a = np.array([1, 2, 3, 2, 3, 4, 3, 4, 5, 6])\n",
    "arr_b = np.array([7, 2, 10, 2, 7, 4, 9, 4, 9, 8])\n",
    "\n",
    "  # Tạo array arr_c chỉ lấy duy nhất các phần tử xuất hiện ở cả arr_a và arr_b\n",
    "arr_c = np.intersect1d(arr_a, arr_b)\n",
    "print(\"arr_c:\", arr_c)\n",
    "\n",
    "#2: Tạo arr_d chứa các phần tử chỉ xuất hiện ở arr_a\n",
    "arr_d = np.setdiff1d(arr_a, arr_b)\n",
    "print(\"arr_d:\", arr_d)\n",
    "\n",
    "#3: Tạo arr_e và tạo arr_f chỉ chứa các phần tử có giá trị từ 5 đến 10 của arr_e\n",
    "arr_e = np.array([2, 6, 1, 9, 10, 3, 27, 8, 6, 25, 16])\n",
    "arr_f = arr_e[(arr_e >= 5) & (arr_e <= 10)]\n",
    "print(\"arr_f:\", arr_f)\n"
   ]
  }
 ],
 "metadata": {
  "kernelspec": {
   "display_name": "Python 3",
   "language": "python",
   "name": "python3"
  },
  "language_info": {
   "codemirror_mode": {
    "name": "ipython",
    "version": 3
   },
   "file_extension": ".py",
   "mimetype": "text/x-python",
   "name": "python",
   "nbconvert_exporter": "python",
   "pygments_lexer": "ipython3",
   "version": "3.8.6"
  }
 },
 "nbformat": 4,
 "nbformat_minor": 2
}
